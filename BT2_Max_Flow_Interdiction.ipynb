{
  "cells": [
    {
      "cell_type": "code",
      "source": [
        "!pip install gurobipy\n",
        "import numpy as np\n",
        "from gurobipy import *"
      ],
      "metadata": {
        "colab": {
          "base_uri": "https://localhost:8080/"
        },
        "id": "NSoKcygRfq8o",
        "outputId": "6d07fd42-3b45-492d-9c19-76b7cdea609b"
      },
      "execution_count": 1,
      "outputs": [
        {
          "output_type": "stream",
          "name": "stdout",
          "text": [
            "Looking in indexes: https://pypi.org/simple, https://us-python.pkg.dev/colab-wheels/public/simple/\n",
            "Collecting gurobipy\n",
            "  Downloading gurobipy-9.5.2-cp37-cp37m-manylinux2014_x86_64.whl (11.5 MB)\n",
            "\u001b[K     |████████████████████████████████| 11.5 MB 16.2 MB/s \n",
            "\u001b[?25hInstalling collected packages: gurobipy\n",
            "Successfully installed gurobipy-9.5.2\n"
          ]
        }
      ]
    },
    {
      "cell_type": "markdown",
      "source": [
        "Khởi tạo mô hình và trọng số"
      ],
      "metadata": {
        "id": "ST8VS0kMByJD"
      }
    },
    {
      "cell_type": "code",
      "execution_count": 2,
      "metadata": {
        "id": "A-aJZvRofo7B",
        "colab": {
          "base_uri": "https://localhost:8080/"
        },
        "outputId": "cde7a50c-c699-4c5d-e2d5-1bae262b81b8"
      },
      "outputs": [
        {
          "output_type": "stream",
          "name": "stdout",
          "text": [
            "Restricted license - for non-production use only - expires 2023-10-25\n"
          ]
        }
      ],
      "source": [
        "m = Model()\n",
        "u = np.array([\n",
        "    [0, 3, 7, 0, 0, 0, 0, 0, 0],\n",
        "    [0, 0, 0, 9, 3, 0, 0, 0, 0],\n",
        "    [0, 0, 0, 0, 3, 4, 0, 0, 0],\n",
        "    [0, 0, 0, 0, 0, 0, 1, 0, 0],\n",
        "    [0, 0, 0, 0, 0, 0, 5, 8, 0],\n",
        "    [0, 0, 0, 0, 0, 0, 0, 5, 0],\n",
        "    [0, 0, 0, 0, 0, 0, 0, 0, 8],\n",
        "    [0, 0, 0, 0, 0, 0, 0, 0, 3],\n",
        "    [0, 0, 0, 0, 0, 0, 0, 0, 0]\n",
        "])\n",
        "d_vertex = len(u)"
      ]
    },
    {
      "cell_type": "markdown",
      "source": [
        "Khai báo biến"
      ],
      "metadata": {
        "id": "v_xHqaaYB0sL"
      }
    },
    {
      "cell_type": "code",
      "execution_count": 3,
      "metadata": {
        "id": "STWW4qggfo7I"
      },
      "outputs": [],
      "source": [
        "V = [i for i in range(d_vertex)]\n",
        "E = [(i, j) for i in V for j in V if u[i, j] != 0]\n",
        "\n",
        "a = m.addVars(V, vtype = GRB.CONTINUOUS, lb = -GRB.INFINITY, name = 'a')\n",
        "g = m.addVars(E, vtype = GRB.CONTINUOUS, lb = -GRB.INFINITY, name = 'g')\n",
        "b = m.addVars(E, vtype = GRB.BINARY, name = 'b')\n",
        "x = m.addVars(E, vtype = GRB.BINARY, name = 'x')"
      ]
    },
    {
      "cell_type": "markdown",
      "source": [
        "Hàm mục tiêu"
      ],
      "metadata": {
        "id": "MJGTl7drB7Gc"
      }
    },
    {
      "cell_type": "code",
      "source": [
        "m.setObjective(quicksum(u[i, j]*(b[i, j] - g[i, j]) for (i, j) in E), GRB.MINIMIZE)"
      ],
      "metadata": {
        "id": "yRVdvooFpuG8"
      },
      "execution_count": 4,
      "outputs": []
    },
    {
      "cell_type": "markdown",
      "source": [
        "Khai báo điều kiện ràng buộc"
      ],
      "metadata": {
        "id": "t3BClEhjB9ii"
      }
    },
    {
      "cell_type": "code",
      "source": [
        "m.addConstrs(g[i, j] <= x[i, j] for (i, j) in E)\n",
        "m.addConstrs(g[i, j] <= b[i, j] for (i, j) in E)\n",
        "m.addConstrs(a[i] - a[j] + b[i, j] >= 0 for (i, j) in E)\n",
        "m.addConstr(a[8] - a[0] >= 1)\n",
        "m.addConstr(quicksum(x[i, j] for (i, j) in E) <= 1)\n",
        "m.update()"
      ],
      "metadata": {
        "id": "hSACtf0IrjOD"
      },
      "execution_count": 5,
      "outputs": []
    },
    {
      "cell_type": "code",
      "source": [
        "m.optimize()"
      ],
      "metadata": {
        "colab": {
          "base_uri": "https://localhost:8080/"
        },
        "id": "8WGG8v7asQ9F",
        "outputId": "6616f4ab-ff94-42cc-ae09-105ecd5b5e5c"
      },
      "execution_count": 6,
      "outputs": [
        {
          "output_type": "stream",
          "name": "stdout",
          "text": [
            "Gurobi Optimizer version 9.5.2 build v9.5.2rc0 (linux64)\n",
            "Thread count: 1 physical cores, 2 logical processors, using up to 2 threads\n",
            "Optimize a model with 38 rows, 45 columns and 98 nonzeros\n",
            "Model fingerprint: 0x7497be51\n",
            "Variable types: 21 continuous, 24 integer (24 binary)\n",
            "Coefficient statistics:\n",
            "  Matrix range     [1e+00, 1e+00]\n",
            "  Objective range  [1e+00, 9e+00]\n",
            "  Bounds range     [1e+00, 1e+00]\n",
            "  RHS range        [1e+00, 1e+00]\n",
            "Found heuristic solution: objective 11.0000000\n",
            "Presolve removed 19 rows and 20 columns\n",
            "Presolve time: 0.00s\n",
            "Presolved: 19 rows, 25 columns, 58 nonzeros\n",
            "Variable types: 0 continuous, 25 integer (24 binary)\n",
            "Found heuristic solution: objective 3.0000000\n",
            "\n",
            "Root relaxation: cutoff, 8 iterations, 0.00 seconds (0.00 work units)\n",
            "\n",
            "    Nodes    |    Current Node    |     Objective Bounds      |     Work\n",
            " Expl Unexpl |  Obj  Depth IntInf | Incumbent    BestBd   Gap | It/Node Time\n",
            "\n",
            "     0     0     cutoff    0         3.00000    3.00000  0.00%     -    0s\n",
            "\n",
            "Explored 1 nodes (8 simplex iterations) in 0.04 seconds (0.00 work units)\n",
            "Thread count was 2 (of 2 available processors)\n",
            "\n",
            "Solution count 2: 3 11 \n",
            "\n",
            "Optimal solution found (tolerance 1.00e-04)\n",
            "Best objective 3.000000000000e+00, best bound 3.000000000000e+00, gap 0.0000%\n"
          ]
        }
      ]
    },
    {
      "cell_type": "code",
      "source": [
        "m.printAttr('X')"
      ],
      "metadata": {
        "colab": {
          "base_uri": "https://localhost:8080/"
        },
        "id": "mjV5Q3cdsUQq",
        "outputId": "44800a1d-7d25-4df9-b25b-f3b547208e82"
      },
      "execution_count": 7,
      "outputs": [
        {
          "output_type": "stream",
          "name": "stdout",
          "text": [
            "\n",
            "    Variable            X \n",
            "-------------------------\n",
            "        a[8]            1 \n",
            "      g[6,8]            1 \n",
            "      b[6,8]            1 \n",
            "      b[7,8]            1 \n",
            "      x[6,8]            1 \n"
          ]
        }
      ]
    }
  ],
  "metadata": {
    "interpreter": {
      "hash": "0687e76f0ddfc4f0a002eb165178d1835450da7e37727ee21ff841f2faba1896"
    },
    "kernelspec": {
      "display_name": "Python 3.9.7 ('base')",
      "language": "python",
      "name": "python3"
    },
    "language_info": {
      "codemirror_mode": {
        "name": "ipython",
        "version": 3
      },
      "file_extension": ".py",
      "mimetype": "text/x-python",
      "name": "python",
      "nbconvert_exporter": "python",
      "pygments_lexer": "ipython3",
      "version": "3.9.7"
    },
    "orig_nbformat": 4,
    "colab": {
      "name": "BT2_Max_Flow_Interdiction.ipynb",
      "provenance": [],
      "collapsed_sections": []
    }
  },
  "nbformat": 4,
  "nbformat_minor": 0
}