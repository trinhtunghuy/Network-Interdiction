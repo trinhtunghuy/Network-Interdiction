{
  "cells": [
    {
      "cell_type": "code",
      "source": [
        "!pip install gurobipy\n",
        "import numpy as np\n",
        "from gurobipy import *"
      ],
      "metadata": {
        "id": "3Ell5vU7VRSk",
        "colab": {
          "base_uri": "https://localhost:8080/"
        },
        "outputId": "dbfa1d83-87e4-4af5-f16e-5614d47646be"
      },
      "execution_count": 1,
      "outputs": [
        {
          "output_type": "stream",
          "name": "stdout",
          "text": [
            "Looking in indexes: https://pypi.org/simple, https://us-python.pkg.dev/colab-wheels/public/simple/\n",
            "Collecting gurobipy\n",
            "  Downloading gurobipy-9.5.2-cp37-cp37m-manylinux2014_x86_64.whl (11.5 MB)\n",
            "\u001b[K     |████████████████████████████████| 11.5 MB 6.3 MB/s \n",
            "\u001b[?25hInstalling collected packages: gurobipy\n",
            "Successfully installed gurobipy-9.5.2\n"
          ]
        }
      ]
    },
    {
      "cell_type": "markdown",
      "metadata": {
        "id": "jolurY6dVMkP"
      },
      "source": [
        "Khởi tạo mô hình và trọng số"
      ]
    },
    {
      "cell_type": "code",
      "execution_count": 2,
      "metadata": {
        "id": "X2Iya1f3VMkQ",
        "outputId": "4d39d967-6e3c-4199-f5da-97f88d20d935",
        "colab": {
          "base_uri": "https://localhost:8080/"
        }
      },
      "outputs": [
        {
          "output_type": "stream",
          "name": "stdout",
          "text": [
            "Restricted license - for non-production use only - expires 2023-10-25\n"
          ]
        }
      ],
      "source": [
        "m = Model()\n",
        "d = np.array([\n",
        "    [9, 6, 7, 2, 8],\n",
        "    [6, 7, 4, 5, 3],\n",
        "    [5, 2, 7, 2, 8],\n",
        "    [9, 10, 7, 8, 2],\n",
        "    [6, 11, 2, 9, 3],\n",
        "    [9, 8, 7, 6, 2],\n",
        "    [4, 5, 4, 3, 5],\n",
        "    [13, 10, 11, 6, 6],\n",
        "    [2, 3, 6, 7, 7],\n",
        "])\n",
        "d_base = len(d)\n",
        "d_outpost = len(d[1,:])"
      ]
    },
    {
      "cell_type": "markdown",
      "metadata": {
        "id": "qALoB3yrVMkR"
      },
      "source": [
        "Khai báo biến"
      ]
    },
    {
      "cell_type": "code",
      "execution_count": 3,
      "metadata": {
        "id": "pVQLO8eeVMkR"
      },
      "outputs": [],
      "source": [
        "F = [i + 1 for i in range(d_base)]\n",
        "N = [j + 1 for j in range(d_outpost)]\n",
        "A = [(i, j) for i in F for j in N]\n",
        "\n",
        "x = m.addVars(F, vtype = GRB.BINARY, name = 'x')\n",
        "y = m.addVars(A, vtype = GRB.CONTINUOUS, lb = 0, name = 'y')"
      ]
    },
    {
      "cell_type": "markdown",
      "metadata": {
        "id": "Ii_xKwc1VMkS"
      },
      "source": [
        "## Hàm mục tiêu"
      ]
    },
    {
      "cell_type": "code",
      "execution_count": 4,
      "metadata": {
        "id": "iA0QORhnVMkT"
      },
      "outputs": [],
      "source": [
        "m.setObjective(quicksum(d[i - 1, j - 1]*y[i, j] for i, j in A), GRB.MAXIMIZE)"
      ]
    },
    {
      "cell_type": "markdown",
      "metadata": {
        "id": "eS6ccHIqVMkU"
      },
      "source": [
        "Khai báo các điều kiện ràng buộc"
      ]
    },
    {
      "cell_type": "code",
      "execution_count": 5,
      "metadata": {
        "id": "QcbrKQRoVMkU"
      },
      "outputs": [],
      "source": [
        "m.addConstrs(quicksum(y[i, j] for j in N) == 1 for i in F)\n",
        "m.addConstr(quicksum(x[j] for j in N) == 2)\n",
        "m.addConstrs(quicksum(y[i, k] for k in N if d[i - 1, k - 1] > d[i - 1, j - 1]) <= x[j] for (i, j) in A)\n",
        "m.update()"
      ]
    },
    {
      "cell_type": "code",
      "execution_count": 6,
      "metadata": {
        "id": "TOAexwPZVMkV",
        "outputId": "fad7de4b-dccf-463d-9966-1c83acc6b1b9",
        "colab": {
          "base_uri": "https://localhost:8080/"
        }
      },
      "outputs": [
        {
          "output_type": "stream",
          "name": "stdout",
          "text": [
            "Gurobi Optimizer version 9.5.2 build v9.5.2rc0 (linux64)\n",
            "Thread count: 1 physical cores, 2 logical processors, using up to 2 threads\n",
            "Optimize a model with 55 rows, 54 columns and 180 nonzeros\n",
            "Model fingerprint: 0xd5232552\n",
            "Variable types: 45 continuous, 9 integer (9 binary)\n",
            "Coefficient statistics:\n",
            "  Matrix range     [1e+00, 1e+00]\n",
            "  Objective range  [2e+00, 1e+01]\n",
            "  Bounds range     [1e+00, 1e+00]\n",
            "  RHS range        [1e+00, 2e+00]\n",
            "Presolve removed 27 rows and 29 columns\n",
            "Presolve time: 0.00s\n",
            "Presolved: 28 rows, 25 columns, 91 nonzeros\n",
            "Variable types: 20 continuous, 5 integer (5 binary)\n",
            "Found heuristic solution: objective 39.0000000\n",
            "\n",
            "Root relaxation: objective 4.560000e+01, 13 iterations, 0.00 seconds (0.00 work units)\n",
            "\n",
            "    Nodes    |    Current Node    |     Objective Bounds      |     Work\n",
            " Expl Unexpl |  Obj  Depth IntInf | Incumbent    BestBd   Gap | It/Node Time\n",
            "\n",
            "     0     0   45.60000    0    5   39.00000   45.60000  16.9%     -    0s\n",
            "H    0     0                      40.0000000   45.60000  14.0%     -    0s\n",
            "     0     0   44.34783    0    5   40.00000   44.34783  10.9%     -    0s\n",
            "H    0     0                      44.0000000   44.34783  0.79%     -    0s\n",
            "\n",
            "Cutting planes:\n",
            "  Gomory: 1\n",
            "  MIR: 3\n",
            "  RLT: 2\n",
            "\n",
            "Explored 1 nodes (20 simplex iterations) in 0.05 seconds (0.00 work units)\n",
            "Thread count was 2 (of 2 available processors)\n",
            "\n",
            "Solution count 2: 44 40 \n",
            "\n",
            "Optimal solution found (tolerance 1.00e-04)\n",
            "Best objective 4.400000000000e+01, best bound 4.400000000000e+01, gap 0.0000%\n"
          ]
        }
      ],
      "source": [
        "m.optimize()"
      ]
    },
    {
      "cell_type": "code",
      "execution_count": 7,
      "metadata": {
        "id": "pAeYWPbWVMkc",
        "outputId": "1d2b7ea3-0e4b-4465-fe91-de52c5ba7856",
        "colab": {
          "base_uri": "https://localhost:8080/"
        }
      },
      "outputs": [
        {
          "output_type": "stream",
          "name": "stdout",
          "text": [
            "\n",
            "    Variable            X \n",
            "-------------------------\n",
            "        x[4]            1 \n",
            "        x[5]            1 \n",
            "      y[1,2]            1 \n",
            "      y[2,3]            1 \n",
            "      y[3,2]            1 \n",
            "      y[4,3]            1 \n",
            "      y[5,3]            1 \n",
            "      y[6,3]            1 \n",
            "      y[7,3]            1 \n",
            "      y[8,2]            1 \n",
            "      y[9,1]            1 \n"
          ]
        }
      ],
      "source": [
        "m.printAttr('X')"
      ]
    }
  ],
  "metadata": {
    "interpreter": {
      "hash": "0687e76f0ddfc4f0a002eb165178d1835450da7e37727ee21ff841f2faba1896"
    },
    "kernelspec": {
      "display_name": "Python 3.9.7 ('base')",
      "language": "python",
      "name": "python3"
    },
    "language_info": {
      "codemirror_mode": {
        "name": "ipython",
        "version": 3
      },
      "file_extension": ".py",
      "mimetype": "text/x-python",
      "name": "python",
      "nbconvert_exporter": "python",
      "pygments_lexer": "ipython3",
      "version": "3.9.7"
    },
    "orig_nbformat": 4,
    "colab": {
      "name": "BT3_Facility_Assignment_Interdiction.ipynb",
      "provenance": [],
      "collapsed_sections": []
    }
  },
  "nbformat": 4,
  "nbformat_minor": 0
}