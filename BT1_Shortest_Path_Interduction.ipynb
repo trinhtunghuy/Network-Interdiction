{
  "cells": [
    {
      "cell_type": "code",
      "execution_count": null,
      "metadata": {
        "id": "rnipSHeDz4jM",
        "colab": {
          "base_uri": "https://localhost:8080/"
        },
        "outputId": "ebc9a796-86ed-4976-d49c-982ee69a4b37"
      },
      "outputs": [
        {
          "output_type": "stream",
          "name": "stdout",
          "text": [
            "Looking in indexes: https://pypi.org/simple, https://us-python.pkg.dev/colab-wheels/public/simple/\n",
            "Requirement already satisfied: gurobipy in /usr/local/lib/python3.7/dist-packages (9.5.2)\n"
          ]
        }
      ],
      "source": [
        "!pip install gurobipy\n",
        "import numpy as np\n",
        "from gurobipy import *"
      ]
    },
    {
      "cell_type": "markdown",
      "source": [
        "Tạo mô hình và trọng số"
      ],
      "metadata": {
        "id": "SIrbfVJyCdJV"
      }
    },
    {
      "cell_type": "code",
      "source": [
        "m = Model()\n",
        "c = np.array([\n",
        "    [0, 3, 7, 0, 0, 0, 0, 0, 0],\n",
        "    [0, 0, 0, 9, 3, 0, 0, 0, 0],\n",
        "    [0, 0, 0, 0, 3, 4, 0, 0, 0],\n",
        "    [0, 0, 0, 0, 0, 0, 1, 0, 0],\n",
        "    [0, 0, 0, 0, 0, 0, 5, 8, 0],\n",
        "    [0, 0, 0, 0, 0, 0, 0, 5, 0],\n",
        "    [0, 0, 0, 0, 0, 0, 0, 0, 8],\n",
        "    [0, 0, 0, 0, 0, 0, 0, 0, 3],\n",
        "    [0, 0, 0, 0, 0, 0, 0, 0, 0]\n",
        "])\n",
        "d = np.array([\n",
        "    [0, 3, 1, 0, 0, 0, 0, 0, 0],\n",
        "    [0, 0, 0, 2, 3, 0, 0, 0, 0],\n",
        "    [0, 0, 0, 0, 3, 3, 0, 0, 0],\n",
        "    [0, 0, 0, 0, 0, 0, 4, 0, 0],\n",
        "    [0, 0, 0, 0, 0, 0, 1, 3, 0],\n",
        "    [0, 0, 0, 0, 0, 0, 0, 1, 0],\n",
        "    [0, 0, 0, 0, 0, 0, 0, 0, 1],\n",
        "    [0, 0, 0, 0, 0, 0, 0, 0, 5],\n",
        "    [0, 0, 0, 0, 0, 0, 0, 0, 0]\n",
        "])"
      ],
      "metadata": {
        "id": "hvNzUK4M2lwF"
      },
      "execution_count": null,
      "outputs": []
    },
    {
      "cell_type": "markdown",
      "source": [
        "Khởi tạo các biến"
      ],
      "metadata": {
        "id": "xBDatjbL-Ux_"
      }
    },
    {
      "cell_type": "code",
      "source": [
        "V = [i for i in range(8)]\n",
        "E = [(i, j) for i in V for j in V if c[i, j] != 0]\n",
        "\n",
        "p = m.addVars(V, vtype = GRB.CONTINUOUS, lb = -GRB.INFINITY, name = 'p') #Mặc định cận dưới (lower bound - lb) nếu không khai báo sẽ mặc định lb = 0\n",
        "x = m.addVars(E, vtype = GRB.BINARY, name = 'x')"
      ],
      "metadata": {
        "id": "l_0B8hSVnhh7"
      },
      "execution_count": null,
      "outputs": []
    },
    {
      "cell_type": "markdown",
      "source": [
        "Khởi tạo hàm mục tiêu"
      ],
      "metadata": {
        "id": "LrK0xSRI-nI5"
      }
    },
    {
      "cell_type": "code",
      "source": [
        "m.setObjective(p[0] - p[8], GRB.MAXIMIZE)"
      ],
      "metadata": {
        "id": "rCq-3zbSpBSa"
      },
      "execution_count": null,
      "outputs": []
    },
    {
      "cell_type": "markdown",
      "source": [
        "Thêm các điều kiện ràng buộc"
      ],
      "metadata": {
        "id": "sNZ2GoUF-p4F"
      }
    },
    {
      "cell_type": "code",
      "source": [
        "m.addConstrs(p[i] - p[j] - d[i, j]*x[i, j] <= c[i, j] for (i, j) in E)\n",
        "m.addConstr(x[0, 1] + x[0, 2] <= 1)\n",
        "m.addConstr(x[1, 3] + x[1, 4] + x[2, 4] + x[2, 5] <= 1)\n",
        "m.addConstr(x[3, 6] + x[4, 6] + x[4, 7] + x[5, 7] <= 1)\n",
        "m.addConstr(x[6, 8] + x[7, 8] <= 1)\n",
        "m.update()"
      ],
      "metadata": {
        "id": "39OZnGckq9or"
      },
      "execution_count": null,
      "outputs": []
    },
    {
      "cell_type": "code",
      "source": [
        "m.optimize()"
      ],
      "metadata": {
        "colab": {
          "base_uri": "https://localhost:8080/"
        },
        "id": "U6WaWRi2sPF6",
        "outputId": "05794b41-76fe-41f9-d794-4b9296d97caa"
      },
      "execution_count": null,
      "outputs": [
        {
          "output_type": "stream",
          "name": "stdout",
          "text": [
            "Gurobi Optimizer version 9.5.2 build v9.5.2rc0 (linux64)\n",
            "Thread count: 1 physical cores, 2 logical processors, using up to 2 threads\n",
            "Optimize a model with 16 rows, 21 columns and 48 nonzeros\n",
            "Model fingerprint: 0x34c0ca61\n",
            "Variable types: 9 continuous, 12 integer (12 binary)\n",
            "Coefficient statistics:\n",
            "  Matrix range     [1e+00, 5e+00]\n",
            "  Objective range  [1e+00, 1e+00]\n",
            "  Bounds range     [1e+00, 1e+00]\n",
            "  RHS range        [1e+00, 9e+00]\n",
            "Found heuristic solution: objective 6.0000000\n",
            "Presolve removed 8 rows and 10 columns\n",
            "Presolve time: 0.00s\n",
            "Presolved: 8 rows, 11 columns, 27 nonzeros\n",
            "Found heuristic solution: objective 21.0000000\n",
            "Variable types: 0 continuous, 11 integer (9 binary)\n",
            "Found heuristic solution: objective 22.0000000\n",
            "\n",
            "Root relaxation: objective 2.416667e+01, 11 iterations, 0.00 seconds (0.00 work units)\n",
            "\n",
            "    Nodes    |    Current Node    |     Objective Bounds      |     Work\n",
            " Expl Unexpl |  Obj  Depth IntInf | Incumbent    BestBd   Gap | It/Node Time\n",
            "\n",
            "     0     0   24.16667    0    4   22.00000   24.16667  9.85%     -    0s\n",
            "H    0     0                      24.0000000   24.16667  0.69%     -    0s\n",
            "     0     0   24.16667    0    4   24.00000   24.16667  0.69%     -    0s\n",
            "\n",
            "Explored 1 nodes (11 simplex iterations) in 0.05 seconds (0.00 work units)\n",
            "Thread count was 2 (of 2 available processors)\n",
            "\n",
            "Solution count 4: 24 22 21 6 \n",
            "\n",
            "Optimal solution found (tolerance 1.00e-04)\n",
            "Best objective 2.400000000000e+01, best bound 2.400000000000e+01, gap 0.0000%\n"
          ]
        }
      ]
    },
    {
      "cell_type": "code",
      "source": [
        "m.printAttr('X') #In ra giá trị các biến khác 0 trong nghiệm tối ưu"
      ],
      "metadata": {
        "colab": {
          "base_uri": "https://localhost:8080/"
        },
        "id": "UNuXqtA1sScU",
        "outputId": "68895e0e-1a48-47a8-ee47-cced915ad5f7"
      },
      "execution_count": null,
      "outputs": [
        {
          "output_type": "stream",
          "name": "stdout",
          "text": [
            "\n",
            "    Variable            X \n",
            "-------------------------\n",
            "        p[0]            7 \n",
            "        p[1]            1 \n",
            "        p[3]           -8 \n",
            "        p[4]           -3 \n",
            "        p[5]           -4 \n",
            "        p[6]           -9 \n",
            "        p[7]           -9 \n",
            "        p[8]          -17 \n",
            "      x[0,1]            1 \n",
            "      x[1,4]            1 \n",
            "      x[4,6]            1 \n",
            "      x[7,8]            1 \n"
          ]
        }
      ]
    }
  ],
  "metadata": {
    "language_info": {
      "name": "python"
    },
    "orig_nbformat": 4,
    "colab": {
      "name": "BT1_Shortest_Path_Interduction.ipynb",
      "provenance": [],
      "collapsed_sections": []
    },
    "kernelspec": {
      "name": "python3",
      "display_name": "Python 3"
    },
    "gpuClass": "standard"
  },
  "nbformat": 4,
  "nbformat_minor": 0
}