{
  "cells": [
    {
      "cell_type": "code",
      "source": [
        "!pip install gurobipy\n",
        "import numpy as np\n",
        "from gurobipy import *"
      ],
      "metadata": {
        "id": "6cQRj9vOVUDy",
        "colab": {
          "base_uri": "https://localhost:8080/"
        },
        "outputId": "bc401557-9514-4c87-dc21-184d1f48a9d5"
      },
      "execution_count": 5,
      "outputs": [
        {
          "output_type": "stream",
          "name": "stdout",
          "text": [
            "Looking in indexes: https://pypi.org/simple, https://us-python.pkg.dev/colab-wheels/public/simple/\n",
            "Requirement already satisfied: gurobipy in /usr/local/lib/python3.7/dist-packages (9.5.2)\n"
          ]
        }
      ]
    },
    {
      "cell_type": "markdown",
      "source": [
        "Khởi tạo mô hình và trọng số"
      ],
      "metadata": {
        "id": "DeBAdc_2qauv"
      }
    },
    {
      "cell_type": "code",
      "execution_count": 6,
      "metadata": {
        "id": "u87MKKdrVKOX"
      },
      "outputs": [],
      "source": [
        "m = Model()\n",
        "d = np.array([4, 3, 3, -4, 0, -6])\n",
        "c = np.array([\n",
        "    [0, 0, 0, 9, 6, 3],\n",
        "    [0, 0, 0, 4, 6, 5],\n",
        "    [0, 0, 0, 5, 8, 4],\n",
        "    [0, 0, 0, 0, 0, 0],\n",
        "    [0, 0, 0, 1, 0, 1],\n",
        "    [0, 0, 0, 0, 0, 0]\n",
        "])\n",
        "u = np.array([\n",
        "    [0, 0, 0, 4, 5, 6],\n",
        "    [0, 0, 0, 3, 2, 3],\n",
        "    [0, 0, 0, 7, 4, 3],\n",
        "    [0, 0, 0, 0, 0, 0],\n",
        "    [0, 0, 0, 5, 0, 7],\n",
        "    [0, 0, 0, 0, 0, 0]\n",
        "])\n",
        "d_vertex = len(d)"
      ]
    },
    {
      "cell_type": "markdown",
      "source": [
        "Khai báo biên"
      ],
      "metadata": {
        "id": "ale1AWyuqeWM"
      }
    },
    {
      "cell_type": "code",
      "execution_count": 7,
      "metadata": {
        "id": "mU_x5TeoVKOY"
      },
      "outputs": [],
      "source": [
        "V = [i + 1 for i in range(d_vertex)]\n",
        "E = [(i, j) for i in V for j in V if c[i - 1, j - 1] != 0]\n",
        "\n",
        "a = m.addVars(V, vtype = GRB.CONTINUOUS, lb = -GRB.INFINITY, name = 'a')\n",
        "b = m.addVars(E, vtype = GRB.CONTINUOUS, lb = 0, name = 'b')\n",
        "x = m.addVars(E, vtype = GRB.BINARY, name = 'x')"
      ]
    },
    {
      "cell_type": "markdown",
      "source": [
        "Hàm mục tiêu"
      ],
      "metadata": {
        "id": "vhpGXTpCrGSG"
      }
    },
    {
      "cell_type": "code",
      "source": [
        "m.setObjective(4*a[1] + 3*a[2] + 3*a[3] - 4*a[4] -6*a[6] \n",
        "- 4*(1 - x[1, 4])*b[1, 4] - 5*(1 - x[1, 5])*b[1, 5] - 6*(1 - x[1, 6])*b[1, 6]\n",
        "- 3*(1 - x[2, 4])*b[2, 4] - 2*(1 - x[2, 5])*b[2, 5] - 3*(1 - x[2, 6])*b[2, 6]\n",
        "- 7*(1 - x[3, 4])*b[3, 4] - 4*(1 - x[3, 5])*b[3, 5] - 3*(1 - x[3, 6])*b[3, 6]\n",
        "- 5*(1 - x[5, 4])*b[5, 4] - 7*(1 - x[5, 6])*b[5, 6], GRB.MAXIMIZE)"
      ],
      "metadata": {
        "id": "lvkmWJvB5Wdx"
      },
      "execution_count": 8,
      "outputs": []
    },
    {
      "cell_type": "markdown",
      "source": [
        "Khai báo các điều kiện ràng buộc"
      ],
      "metadata": {
        "id": "5PLwn3WtriX0"
      }
    },
    {
      "cell_type": "code",
      "source": [
        "m.addConstrs(a[i] - a[j] - b[i, j] <= c[i - 1, j - 1] for (i, j) in E)\n",
        "m.addConstr(quicksum(x[i, j]  for (i, j) in E) <= 2)\n",
        "m.update()"
      ],
      "metadata": {
        "id": "9yuM8oo961FL"
      },
      "execution_count": 9,
      "outputs": []
    },
    {
      "cell_type": "code",
      "source": [
        "m.optimize()"
      ],
      "metadata": {
        "id": "qeSCT4H59U1z",
        "colab": {
          "base_uri": "https://localhost:8080/"
        },
        "outputId": "91d09cad-0495-4ebf-c949-ab20bfd9f714"
      },
      "execution_count": 10,
      "outputs": [
        {
          "output_type": "stream",
          "name": "stdout",
          "text": [
            "Gurobi Optimizer version 9.5.2 build v9.5.2rc0 (linux64)\n",
            "Thread count: 1 physical cores, 2 logical processors, using up to 2 threads\n",
            "Optimize a model with 12 rows, 28 columns and 44 nonzeros\n",
            "Model fingerprint: 0x7b40c43e\n",
            "Model has 11 quadratic objective terms\n",
            "Variable types: 17 continuous, 11 integer (11 binary)\n",
            "Coefficient statistics:\n",
            "  Matrix range     [1e+00, 1e+00]\n",
            "  Objective range  [2e+00, 7e+00]\n",
            "  QObjective range [4e+00, 1e+01]\n",
            "  Bounds range     [1e+00, 1e+00]\n",
            "  RHS range        [1e+00, 9e+00]\n",
            "Found heuristic solution: objective -0.0000000\n",
            "Presolve removed 0 rows and 1 columns\n",
            "Presolve time: 0.00s\n",
            "Presolved: 34 rows, 60 columns, 94 nonzeros\n",
            "Presolved model has 22 SOS constraint(s)\n",
            "Variable types: 38 continuous, 22 integer (22 binary)\n",
            "\n",
            "Root relaxation: unbounded, 21 iterations, 0.00 seconds (0.00 work units)\n",
            "\n",
            "    Nodes    |    Current Node    |     Objective Bounds      |     Work\n",
            " Expl Unexpl |  Obj  Depth IntInf | Incumbent    BestBd   Gap | It/Node Time\n",
            "\n",
            "     0     0  postponed    0        -0.00000          -      -     -    0s\n",
            "     0     0  postponed    0        -0.00000          -      -     -    0s\n",
            "     0     2  postponed    0        -0.00000          -      -     -    0s\n",
            "*    5     5               3      63.0000000          -      -   9.4    0s\n",
            "\n",
            "Explored 97 nodes (377 simplex iterations) in 0.06 seconds (0.00 work units)\n",
            "Thread count was 2 (of 2 available processors)\n",
            "\n",
            "Solution count 2: 63 -0 \n",
            "\n",
            "Model is unbounded\n",
            "Best objective 6.300000000000e+01, best bound -, gap -\n"
          ]
        }
      ]
    },
    {
      "cell_type": "code",
      "source": [
        "m.printAttr('x')"
      ],
      "metadata": {
        "id": "oraGIyfG9WCm",
        "colab": {
          "base_uri": "https://localhost:8080/"
        },
        "outputId": "824a9f58-9de5-47de-e7b7-dc2fb517fa83"
      },
      "execution_count": 11,
      "outputs": [
        {
          "output_type": "stream",
          "name": "stdout",
          "text": [
            "\n",
            "    Variable            x \n",
            "-------------------------\n",
            "        a[1]            9 \n",
            "        a[2]            4 \n",
            "        a[3]            3 \n",
            "        a[6]           -1 \n",
            "      b[1,5]            3 \n",
            "      b[1,6]            7 \n",
            "      x[1,5]            1 \n",
            "      x[1,6]            1 \n"
          ]
        }
      ]
    }
  ],
  "metadata": {
    "interpreter": {
      "hash": "0687e76f0ddfc4f0a002eb165178d1835450da7e37727ee21ff841f2faba1896"
    },
    "kernelspec": {
      "display_name": "Python 3.9.7 ('base')",
      "language": "python",
      "name": "python3"
    },
    "language_info": {
      "codemirror_mode": {
        "name": "ipython",
        "version": 3
      },
      "file_extension": ".py",
      "mimetype": "text/x-python",
      "name": "python",
      "nbconvert_exporter": "python",
      "pygments_lexer": "ipython3",
      "version": "3.9.7"
    },
    "orig_nbformat": 4,
    "colab": {
      "name": "BT4_Min_Cost_Flow_Interdiction.ipynb",
      "provenance": [],
      "collapsed_sections": []
    }
  },
  "nbformat": 4,
  "nbformat_minor": 0
}